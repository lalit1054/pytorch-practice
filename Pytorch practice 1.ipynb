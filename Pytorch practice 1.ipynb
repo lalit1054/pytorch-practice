{
 "cells": [
  {
   "cell_type": "code",
   "execution_count": 2,
   "id": "81e03e2f",
   "metadata": {},
   "outputs": [],
   "source": [
    "import torch"
   ]
  },
  {
   "cell_type": "code",
   "execution_count": 6,
   "id": "aee836aa",
   "metadata": {},
   "outputs": [],
   "source": [
    "device = 'cuda'"
   ]
  },
  {
   "cell_type": "code",
   "execution_count": 11,
   "id": "97658065",
   "metadata": {},
   "outputs": [],
   "source": [
    "x = torch.tensor([2,4],device = 'cuda')"
   ]
  },
  {
   "cell_type": "code",
   "execution_count": 12,
   "id": "15e34a79",
   "metadata": {},
   "outputs": [
    {
     "name": "stdout",
     "output_type": "stream",
     "text": [
      "torch.int64\n"
     ]
    }
   ],
   "source": [
    "print(x.dtype)"
   ]
  },
  {
   "cell_type": "code",
   "execution_count": 13,
   "id": "52afff31",
   "metadata": {},
   "outputs": [
    {
     "data": {
      "text/plain": [
       "device(type='cuda', index=0)"
      ]
     },
     "execution_count": 13,
     "metadata": {},
     "output_type": "execute_result"
    }
   ],
   "source": [
    "x.device"
   ]
  },
  {
   "cell_type": "code",
   "execution_count": 14,
   "id": "79f01998",
   "metadata": {},
   "outputs": [
    {
     "data": {
      "text/plain": [
       "False"
      ]
     },
     "execution_count": 14,
     "metadata": {},
     "output_type": "execute_result"
    }
   ],
   "source": [
    "x.requires_grad"
   ]
  },
  {
   "cell_type": "code",
   "execution_count": 15,
   "id": "4a955f1b",
   "metadata": {},
   "outputs": [],
   "source": [
    "z = torch.eye(5,5)"
   ]
  },
  {
   "cell_type": "code",
   "execution_count": 16,
   "id": "215f2158",
   "metadata": {},
   "outputs": [
    {
     "data": {
      "text/plain": [
       "tensor([[1., 0., 0., 0., 0.],\n",
       "        [0., 1., 0., 0., 0.],\n",
       "        [0., 0., 1., 0., 0.],\n",
       "        [0., 0., 0., 1., 0.],\n",
       "        [0., 0., 0., 0., 1.]])"
      ]
     },
     "execution_count": 16,
     "metadata": {},
     "output_type": "execute_result"
    }
   ],
   "source": [
    "z"
   ]
  },
  {
   "cell_type": "code",
   "execution_count": 17,
   "id": "73a32ef9",
   "metadata": {},
   "outputs": [],
   "source": [
    "ar = torch.arange(start = 2, end =10, step =2)"
   ]
  },
  {
   "cell_type": "code",
   "execution_count": 18,
   "id": "220cb6d4",
   "metadata": {},
   "outputs": [
    {
     "data": {
      "text/plain": [
       "tensor([2, 4, 6, 8])"
      ]
     },
     "execution_count": 18,
     "metadata": {},
     "output_type": "execute_result"
    }
   ],
   "source": [
    "ar"
   ]
  },
  {
   "cell_type": "code",
   "execution_count": 19,
   "id": "29cd1326",
   "metadata": {},
   "outputs": [],
   "source": [
    "en = torch.empty(size = (3,3))"
   ]
  },
  {
   "cell_type": "code",
   "execution_count": 20,
   "id": "a4a4b97f",
   "metadata": {},
   "outputs": [
    {
     "data": {
      "text/plain": [
       "tensor([[0., 0., 0.],\n",
       "        [0., 0., 0.],\n",
       "        [0., 0., 0.]])"
      ]
     },
     "execution_count": 20,
     "metadata": {},
     "output_type": "execute_result"
    }
   ],
   "source": [
    "en"
   ]
  },
  {
   "cell_type": "code",
   "execution_count": 3,
   "id": "cbe6fc51",
   "metadata": {},
   "outputs": [],
   "source": [
    "y = torch.tensor([4,6])"
   ]
  },
  {
   "cell_type": "code",
   "execution_count": 4,
   "id": "3a08d049",
   "metadata": {},
   "outputs": [
    {
     "name": "stdout",
     "output_type": "stream",
     "text": [
      "tensor([ 8, 24])\n"
     ]
    }
   ],
   "source": [
    "print(x*y)"
   ]
  },
  {
   "cell_type": "code",
   "execution_count": 5,
   "id": "55bdc6d8",
   "metadata": {},
   "outputs": [],
   "source": [
    "l = torch.zeros([2,4])"
   ]
  },
  {
   "cell_type": "code",
   "execution_count": 6,
   "id": "9acf8666",
   "metadata": {},
   "outputs": [
    {
     "data": {
      "text/plain": [
       "tensor([[0., 0., 0., 0.],\n",
       "        [0., 0., 0., 0.]])"
      ]
     },
     "execution_count": 6,
     "metadata": {},
     "output_type": "execute_result"
    }
   ],
   "source": [
    "l"
   ]
  },
  {
   "cell_type": "code",
   "execution_count": 14,
   "id": "04f2f897",
   "metadata": {},
   "outputs": [
    {
     "data": {
      "text/plain": [
       "torch.Size([2, 4])"
      ]
     },
     "execution_count": 14,
     "metadata": {},
     "output_type": "execute_result"
    }
   ],
   "source": [
    "l.shape"
   ]
  },
  {
   "cell_type": "code",
   "execution_count": 15,
   "id": "c3722be2",
   "metadata": {},
   "outputs": [],
   "source": [
    "m = torch.rand([2,6])"
   ]
  },
  {
   "cell_type": "code",
   "execution_count": 16,
   "id": "23868454",
   "metadata": {},
   "outputs": [
    {
     "data": {
      "text/plain": [
       "tensor([[0.4757, 0.8728, 0.2536, 0.9736, 0.8235, 0.9795],\n",
       "        [0.5896, 0.5520, 0.2806, 0.5300, 0.6274, 0.8613]])"
      ]
     },
     "execution_count": 16,
     "metadata": {},
     "output_type": "execute_result"
    }
   ],
   "source": [
    "m"
   ]
  },
  {
   "cell_type": "code",
   "execution_count": 17,
   "id": "44d3537d",
   "metadata": {},
   "outputs": [],
   "source": [
    "n = m.view(1,12)"
   ]
  },
  {
   "cell_type": "code",
   "execution_count": 18,
   "id": "36cd4a8e",
   "metadata": {},
   "outputs": [
    {
     "data": {
      "text/plain": [
       "tensor([[0.4757, 0.8728, 0.2536, 0.9736, 0.8235, 0.9795, 0.5896, 0.5520, 0.2806,\n",
       "         0.5300, 0.6274, 0.8613]])"
      ]
     },
     "execution_count": 18,
     "metadata": {},
     "output_type": "execute_result"
    }
   ],
   "source": [
    "n"
   ]
  },
  {
   "cell_type": "code",
   "execution_count": 26,
   "id": "7cfcfb9a",
   "metadata": {},
   "outputs": [],
   "source": [
    "tensor = torch.tensor([4,6,235,24,65,1,4,0,7,0,70])"
   ]
  },
  {
   "cell_type": "code",
   "execution_count": 27,
   "id": "b73b31a5",
   "metadata": {},
   "outputs": [
    {
     "data": {
      "text/plain": [
       "tensor([  4,   6, 235,  24,  65,   1,   4,   0,   7,   0,  70])"
      ]
     },
     "execution_count": 27,
     "metadata": {},
     "output_type": "execute_result"
    }
   ],
   "source": [
    "tensor"
   ]
  },
  {
   "cell_type": "code",
   "execution_count": 28,
   "id": "ef3e21c9",
   "metadata": {},
   "outputs": [
    {
     "name": "stdout",
     "output_type": "stream",
     "text": [
      "tensor([ True,  True,  True,  True,  True,  True,  True, False,  True, False,\n",
      "         True])\n"
     ]
    }
   ],
   "source": [
    "print(tensor.bool())"
   ]
  },
  {
   "cell_type": "code",
   "execution_count": 29,
   "id": "088901c7",
   "metadata": {},
   "outputs": [
    {
     "data": {
      "text/plain": [
       "tensor([  4,   6, 235,  24,  65,   1,   4,   0,   7,   0,  70],\n",
       "       dtype=torch.int16)"
      ]
     },
     "execution_count": 29,
     "metadata": {},
     "output_type": "execute_result"
    }
   ],
   "source": [
    "tensor.short()"
   ]
  },
  {
   "cell_type": "code",
   "execution_count": 30,
   "id": "392e1bec",
   "metadata": {},
   "outputs": [
    {
     "data": {
      "text/plain": [
       "tensor([  4,   6, 235,  24,  65,   1,   4,   0,   7,   0,  70])"
      ]
     },
     "execution_count": 30,
     "metadata": {},
     "output_type": "execute_result"
    }
   ],
   "source": [
    "tensor.long()"
   ]
  },
  {
   "cell_type": "code",
   "execution_count": 31,
   "id": "53e4ff7c",
   "metadata": {},
   "outputs": [
    {
     "data": {
      "text/plain": [
       "tensor([  4.,   6., 235.,  24.,  65.,   1.,   4.,   0.,   7.,   0.,  70.],\n",
       "       dtype=torch.float16)"
      ]
     },
     "execution_count": 31,
     "metadata": {},
     "output_type": "execute_result"
    }
   ],
   "source": [
    "tensor.half()"
   ]
  },
  {
   "cell_type": "code",
   "execution_count": 32,
   "id": "9346f5f9",
   "metadata": {},
   "outputs": [
    {
     "data": {
      "text/plain": [
       "tensor([  4.,   6., 235.,  24.,  65.,   1.,   4.,   0.,   7.,   0.,  70.])"
      ]
     },
     "execution_count": 32,
     "metadata": {},
     "output_type": "execute_result"
    }
   ],
   "source": [
    "tensor.float()"
   ]
  },
  {
   "cell_type": "code",
   "execution_count": 33,
   "id": "806552a1",
   "metadata": {},
   "outputs": [],
   "source": [
    "import numpy as np"
   ]
  },
  {
   "cell_type": "code",
   "execution_count": 43,
   "id": "7d6b4410",
   "metadata": {},
   "outputs": [],
   "source": [
    "np_array = np.array([2,34,5.6,6,7])"
   ]
  },
  {
   "cell_type": "code",
   "execution_count": 44,
   "id": "c00108aa",
   "metadata": {},
   "outputs": [],
   "source": [
    "tensor = torch.from_numpy(np_array)"
   ]
  },
  {
   "cell_type": "code",
   "execution_count": 45,
   "id": "c339b5be",
   "metadata": {},
   "outputs": [
    {
     "data": {
      "text/plain": [
       "tensor([ 2.0000, 34.0000,  5.6000,  6.0000,  7.0000], dtype=torch.float64)"
      ]
     },
     "execution_count": 45,
     "metadata": {},
     "output_type": "execute_result"
    }
   ],
   "source": [
    "tensor"
   ]
  },
  {
   "cell_type": "code",
   "execution_count": 46,
   "id": "8ca37ff2",
   "metadata": {},
   "outputs": [],
   "source": [
    "np_array_back = tensor.numpy()"
   ]
  },
  {
   "cell_type": "code",
   "execution_count": 47,
   "id": "2a107687",
   "metadata": {},
   "outputs": [
    {
     "data": {
      "text/plain": [
       "array([ 2. , 34. ,  5.6,  6. ,  7. ])"
      ]
     },
     "execution_count": 47,
     "metadata": {},
     "output_type": "execute_result"
    }
   ],
   "source": [
    "np_array_back"
   ]
  },
  {
   "cell_type": "code",
   "execution_count": 48,
   "id": "a7eb00bc",
   "metadata": {},
   "outputs": [],
   "source": [
    "sum_tensor = torch.sum(tensor,dim = 0)"
   ]
  },
  {
   "cell_type": "code",
   "execution_count": 49,
   "id": "a1bada9a",
   "metadata": {},
   "outputs": [
    {
     "data": {
      "text/plain": [
       "tensor(54.6000, dtype=torch.float64)"
      ]
     },
     "execution_count": 49,
     "metadata": {},
     "output_type": "execute_result"
    }
   ],
   "source": [
    "sum_tensor"
   ]
  },
  {
   "cell_type": "code",
   "execution_count": 41,
   "id": "d7bc72c8",
   "metadata": {},
   "outputs": [],
   "source": [
    "tensor_abs = torch.abs(tensor)"
   ]
  },
  {
   "cell_type": "code",
   "execution_count": 50,
   "id": "0fca2ba5",
   "metadata": {},
   "outputs": [
    {
     "data": {
      "text/plain": [
       "tensor([ 2, 34,  5,  6,  7], dtype=torch.int32)"
      ]
     },
     "execution_count": 50,
     "metadata": {},
     "output_type": "execute_result"
    }
   ],
   "source": [
    "tensor_abs"
   ]
  },
  {
   "cell_type": "code",
   "execution_count": 55,
   "id": "215f3f24",
   "metadata": {},
   "outputs": [],
   "source": [
    "z = torch.argmax(tensor,dim = 0)"
   ]
  },
  {
   "cell_type": "code",
   "execution_count": 56,
   "id": "784acc4a",
   "metadata": {},
   "outputs": [
    {
     "data": {
      "text/plain": [
       "tensor(1)"
      ]
     },
     "execution_count": 56,
     "metadata": {},
     "output_type": "execute_result"
    }
   ],
   "source": [
    "z"
   ]
  },
  {
   "cell_type": "code",
   "execution_count": 57,
   "id": "2854a540",
   "metadata": {},
   "outputs": [],
   "source": [
    "sorted_t = torch.sort(tensor,dim = 0, descending = False)"
   ]
  },
  {
   "cell_type": "code",
   "execution_count": 58,
   "id": "62d0a37a",
   "metadata": {},
   "outputs": [
    {
     "data": {
      "text/plain": [
       "torch.return_types.sort(\n",
       "values=tensor([ 2.0000,  5.6000,  6.0000,  7.0000, 34.0000], dtype=torch.float64),\n",
       "indices=tensor([0, 2, 3, 4, 1]))"
      ]
     },
     "execution_count": 58,
     "metadata": {},
     "output_type": "execute_result"
    }
   ],
   "source": [
    "sorted_t"
   ]
  },
  {
   "cell_type": "code",
   "execution_count": 59,
   "id": "46b0cae6",
   "metadata": {},
   "outputs": [],
   "source": [
    "g = torch.clamp(tensor,min = 0)"
   ]
  },
  {
   "cell_type": "code",
   "execution_count": 60,
   "id": "076f030a",
   "metadata": {},
   "outputs": [
    {
     "data": {
      "text/plain": [
       "tensor([ 2.0000, 34.0000,  5.6000,  6.0000,  7.0000], dtype=torch.float64)"
      ]
     },
     "execution_count": 60,
     "metadata": {},
     "output_type": "execute_result"
    }
   ],
   "source": [
    "g"
   ]
  },
  {
   "cell_type": "code",
   "execution_count": 61,
   "id": "2d6b13f4",
   "metadata": {},
   "outputs": [],
   "source": [
    "x = torch.tensor([1,0,1,1,1,1,0,5,4])"
   ]
  },
  {
   "cell_type": "code",
   "execution_count": 62,
   "id": "ac21a86e",
   "metadata": {},
   "outputs": [],
   "source": [
    "z = torch.any(x)"
   ]
  },
  {
   "cell_type": "code",
   "execution_count": 63,
   "id": "374ebafc",
   "metadata": {},
   "outputs": [
    {
     "data": {
      "text/plain": [
       "tensor(True)"
      ]
     },
     "execution_count": 63,
     "metadata": {},
     "output_type": "execute_result"
    }
   ],
   "source": [
    "z"
   ]
  },
  {
   "cell_type": "code",
   "execution_count": 3,
   "id": "331d0068",
   "metadata": {},
   "outputs": [],
   "source": [
    "x = torch.rand((10,25))"
   ]
  },
  {
   "cell_type": "code",
   "execution_count": 12,
   "id": "dadb9a68",
   "metadata": {},
   "outputs": [
    {
     "data": {
      "text/plain": [
       "tensor([0.9230, 0.5616, 0.8371, 0.4745, 0.6014, 0.5618, 0.7103, 0.6095, 0.1391,\n",
       "        0.7735])"
      ]
     },
     "execution_count": 12,
     "metadata": {},
     "output_type": "execute_result"
    }
   ],
   "source": [
    "x[:,0]"
   ]
  },
  {
   "cell_type": "code",
   "execution_count": 13,
   "id": "7927df97",
   "metadata": {},
   "outputs": [
    {
     "name": "stdout",
     "output_type": "stream",
     "text": [
      "torch.Size([4, 5])\n",
      "torch.Size([2, 10])\n"
     ]
    }
   ],
   "source": [
    "x1 = torch.rand(2, 5)\n",
    "x2 = torch.rand(2, 5)\n",
    "print(torch.cat((x1, x2), dim=0).shape)\n",
    "print(torch.cat((x1, x2), dim=1).shape)"
   ]
  },
  {
   "cell_type": "code",
   "execution_count": 14,
   "id": "e3c4087e",
   "metadata": {},
   "outputs": [],
   "source": [
    "x1 = torch.rand(2, 5)\n",
    "x2 = torch.rand(2, 5)"
   ]
  },
  {
   "cell_type": "code",
   "execution_count": 15,
   "id": "4dd9c9af",
   "metadata": {},
   "outputs": [
    {
     "data": {
      "text/plain": [
       "tensor([[0.7506, 0.5297, 0.6342, 0.4262, 0.7265],\n",
       "        [0.3615, 0.9308, 0.3904, 0.0228, 0.8900]])"
      ]
     },
     "execution_count": 15,
     "metadata": {},
     "output_type": "execute_result"
    }
   ],
   "source": [
    "x1"
   ]
  },
  {
   "cell_type": "code",
   "execution_count": 16,
   "id": "592a4bbe",
   "metadata": {},
   "outputs": [
    {
     "data": {
      "text/plain": [
       "tensor([[0.8658, 0.3620, 0.7494, 0.5488, 0.4915],\n",
       "        [0.9470, 0.3032, 0.8466, 0.4557, 0.0188]])"
      ]
     },
     "execution_count": 16,
     "metadata": {},
     "output_type": "execute_result"
    }
   ],
   "source": [
    "x2"
   ]
  },
  {
   "cell_type": "code",
   "execution_count": 17,
   "id": "3d02cbe7",
   "metadata": {},
   "outputs": [],
   "source": [
    "x3 = torch.cat((x1,x2),dim =0)"
   ]
  },
  {
   "cell_type": "code",
   "execution_count": 18,
   "id": "e3034b82",
   "metadata": {},
   "outputs": [
    {
     "data": {
      "text/plain": [
       "tensor([[0.7506, 0.5297, 0.6342, 0.4262, 0.7265],\n",
       "        [0.3615, 0.9308, 0.3904, 0.0228, 0.8900],\n",
       "        [0.8658, 0.3620, 0.7494, 0.5488, 0.4915],\n",
       "        [0.9470, 0.3032, 0.8466, 0.4557, 0.0188]])"
      ]
     },
     "execution_count": 18,
     "metadata": {},
     "output_type": "execute_result"
    }
   ],
   "source": [
    "x3"
   ]
  },
  {
   "cell_type": "code",
   "execution_count": 19,
   "id": "b8d2bf7a",
   "metadata": {},
   "outputs": [],
   "source": [
    "x4 = torch.cat((x1,x2),dim =1)"
   ]
  },
  {
   "cell_type": "code",
   "execution_count": 20,
   "id": "ff83c104",
   "metadata": {},
   "outputs": [
    {
     "data": {
      "text/plain": [
       "tensor([[0.7506, 0.5297, 0.6342, 0.4262, 0.7265, 0.8658, 0.3620, 0.7494, 0.5488,\n",
       "         0.4915],\n",
       "        [0.3615, 0.9308, 0.3904, 0.0228, 0.8900, 0.9470, 0.3032, 0.8466, 0.4557,\n",
       "         0.0188]])"
      ]
     },
     "execution_count": 20,
     "metadata": {},
     "output_type": "execute_result"
    }
   ],
   "source": [
    "x4"
   ]
  },
  {
   "cell_type": "code",
   "execution_count": 21,
   "id": "fe6128cd",
   "metadata": {},
   "outputs": [],
   "source": [
    "z1 = x1.view(-1)"
   ]
  },
  {
   "cell_type": "code",
   "execution_count": 23,
   "id": "6745e1f3",
   "metadata": {},
   "outputs": [
    {
     "data": {
      "text/plain": [
       "torch.Size([10])"
      ]
     },
     "execution_count": 23,
     "metadata": {},
     "output_type": "execute_result"
    }
   ],
   "source": [
    "z1.shape"
   ]
  },
  {
   "cell_type": "code",
   "execution_count": 29,
   "id": "fb06f3c5",
   "metadata": {},
   "outputs": [],
   "source": [
    "x = torch.rand((2, 2, 5))"
   ]
  },
  {
   "cell_type": "code",
   "execution_count": 30,
   "id": "9505a9c6",
   "metadata": {},
   "outputs": [
    {
     "data": {
      "text/plain": [
       "tensor([[[0.0135, 0.8157, 0.1310, 0.7628, 0.1696],\n",
       "         [0.3805, 0.9563, 0.6345, 0.2148, 0.6032]],\n",
       "\n",
       "        [[0.2868, 0.6888, 0.4803, 0.2612, 0.0875],\n",
       "         [0.2924, 0.5071, 0.4027, 0.4237, 0.0910]]])"
      ]
     },
     "execution_count": 30,
     "metadata": {},
     "output_type": "execute_result"
    }
   ],
   "source": [
    "x"
   ]
  },
  {
   "cell_type": "code",
   "execution_count": 31,
   "id": "0f57e3ad",
   "metadata": {},
   "outputs": [],
   "source": [
    "z = x.permute(0, 2, 1)"
   ]
  },
  {
   "cell_type": "code",
   "execution_count": 32,
   "id": "db237768",
   "metadata": {},
   "outputs": [
    {
     "data": {
      "text/plain": [
       "torch.Size([2, 5, 2])"
      ]
     },
     "execution_count": 32,
     "metadata": {},
     "output_type": "execute_result"
    }
   ],
   "source": [
    "z.shape"
   ]
  },
  {
   "cell_type": "code",
   "execution_count": 33,
   "id": "193d87f5",
   "metadata": {},
   "outputs": [
    {
     "data": {
      "text/plain": [
       "tensor([[[0.0135, 0.3805],\n",
       "         [0.8157, 0.9563],\n",
       "         [0.1310, 0.6345],\n",
       "         [0.7628, 0.2148],\n",
       "         [0.1696, 0.6032]],\n",
       "\n",
       "        [[0.2868, 0.2924],\n",
       "         [0.6888, 0.5071],\n",
       "         [0.4803, 0.4027],\n",
       "         [0.2612, 0.4237],\n",
       "         [0.0875, 0.0910]]])"
      ]
     },
     "execution_count": 33,
     "metadata": {},
     "output_type": "execute_result"
    }
   ],
   "source": [
    "z"
   ]
  },
  {
   "cell_type": "code",
   "execution_count": 34,
   "id": "0bcbddf7",
   "metadata": {},
   "outputs": [],
   "source": [
    "z2 = torch.chunk(x, chunks=2, dim=1)"
   ]
  },
  {
   "cell_type": "code",
   "execution_count": 35,
   "id": "49c8fed7",
   "metadata": {},
   "outputs": [
    {
     "data": {
      "text/plain": [
       "(tensor([[[0.0135, 0.8157, 0.1310, 0.7628, 0.1696]],\n",
       " \n",
       "         [[0.2868, 0.6888, 0.4803, 0.2612, 0.0875]]]),\n",
       " tensor([[[0.3805, 0.9563, 0.6345, 0.2148, 0.6032]],\n",
       " \n",
       "         [[0.2924, 0.5071, 0.4027, 0.4237, 0.0910]]]))"
      ]
     },
     "execution_count": 35,
     "metadata": {},
     "output_type": "execute_result"
    }
   ],
   "source": [
    "z2"
   ]
  },
  {
   "cell_type": "code",
   "execution_count": 37,
   "id": "a3bd53c3",
   "metadata": {},
   "outputs": [
    {
     "data": {
      "text/plain": [
       "torch.Size([2, 1, 5])"
      ]
     },
     "execution_count": 37,
     "metadata": {},
     "output_type": "execute_result"
    }
   ],
   "source": [
    "z2[0].shape"
   ]
  },
  {
   "cell_type": "code",
   "execution_count": 38,
   "id": "76fdee5e",
   "metadata": {},
   "outputs": [
    {
     "data": {
      "text/plain": [
       "torch.Size([2, 1, 5])"
      ]
     },
     "execution_count": 38,
     "metadata": {},
     "output_type": "execute_result"
    }
   ],
   "source": [
    "z2[1].shape"
   ]
  },
  {
   "cell_type": "code",
   "execution_count": 46,
   "id": "2826586b",
   "metadata": {},
   "outputs": [],
   "source": [
    "x = torch.arange(10)"
   ]
  },
  {
   "cell_type": "code",
   "execution_count": 42,
   "id": "e056de79",
   "metadata": {},
   "outputs": [
    {
     "data": {
      "text/plain": [
       "torch.Size([10])"
      ]
     },
     "execution_count": 42,
     "metadata": {},
     "output_type": "execute_result"
    }
   ],
   "source": [
    "x.shape"
   ]
  },
  {
   "cell_type": "code",
   "execution_count": 40,
   "id": "462394c8",
   "metadata": {},
   "outputs": [],
   "source": [
    "z1 = x.unsqueeze(0)"
   ]
  },
  {
   "cell_type": "code",
   "execution_count": 41,
   "id": "ac04e591",
   "metadata": {},
   "outputs": [
    {
     "data": {
      "text/plain": [
       "tensor([[0, 1, 2, 3, 4, 5, 6, 7, 8, 9]])"
      ]
     },
     "execution_count": 41,
     "metadata": {},
     "output_type": "execute_result"
    }
   ],
   "source": [
    "z1"
   ]
  },
  {
   "cell_type": "code",
   "execution_count": 43,
   "id": "e5279908",
   "metadata": {},
   "outputs": [
    {
     "data": {
      "text/plain": [
       "torch.Size([1, 10])"
      ]
     },
     "execution_count": 43,
     "metadata": {},
     "output_type": "execute_result"
    }
   ],
   "source": [
    "z1.shape"
   ]
  },
  {
   "cell_type": "code",
   "execution_count": 47,
   "id": "845bdb5d",
   "metadata": {},
   "outputs": [],
   "source": [
    "z2 = x.unsqueeze(1)"
   ]
  },
  {
   "cell_type": "code",
   "execution_count": 48,
   "id": "0067dbaf",
   "metadata": {},
   "outputs": [
    {
     "data": {
      "text/plain": [
       "tensor([[0],\n",
       "        [1],\n",
       "        [2],\n",
       "        [3],\n",
       "        [4],\n",
       "        [5],\n",
       "        [6],\n",
       "        [7],\n",
       "        [8],\n",
       "        [9]])"
      ]
     },
     "execution_count": 48,
     "metadata": {},
     "output_type": "execute_result"
    }
   ],
   "source": [
    "z2"
   ]
  },
  {
   "cell_type": "code",
   "execution_count": 49,
   "id": "125d407b",
   "metadata": {},
   "outputs": [
    {
     "data": {
      "text/plain": [
       "torch.Size([10, 1])"
      ]
     },
     "execution_count": 49,
     "metadata": {},
     "output_type": "execute_result"
    }
   ],
   "source": [
    "z2.shape"
   ]
  },
  {
   "cell_type": "code",
   "execution_count": 62,
   "id": "4e8c8e83",
   "metadata": {},
   "outputs": [],
   "source": [
    "x = torch.arange(10).unsqueeze(0)"
   ]
  },
  {
   "cell_type": "code",
   "execution_count": 63,
   "id": "e8a7912c",
   "metadata": {},
   "outputs": [],
   "source": [
    "x2 = x.unsqueeze(1)"
   ]
  },
  {
   "cell_type": "code",
   "execution_count": 64,
   "id": "50c067a2",
   "metadata": {},
   "outputs": [
    {
     "data": {
      "text/plain": [
       "torch.Size([1, 1, 10])"
      ]
     },
     "execution_count": 64,
     "metadata": {},
     "output_type": "execute_result"
    }
   ],
   "source": [
    "x2.shape"
   ]
  },
  {
   "cell_type": "code",
   "execution_count": 65,
   "id": "2924fe83",
   "metadata": {},
   "outputs": [
    {
     "data": {
      "text/plain": [
       "tensor([[[0, 1, 2, 3, 4, 5, 6, 7, 8, 9]]])"
      ]
     },
     "execution_count": 65,
     "metadata": {},
     "output_type": "execute_result"
    }
   ],
   "source": [
    "x2"
   ]
  },
  {
   "cell_type": "code",
   "execution_count": 66,
   "id": "925105f2",
   "metadata": {},
   "outputs": [],
   "source": [
    "z = x2.squeeze(1)"
   ]
  },
  {
   "cell_type": "code",
   "execution_count": 67,
   "id": "590e7cb1",
   "metadata": {},
   "outputs": [
    {
     "data": {
      "text/plain": [
       "tensor([[0, 1, 2, 3, 4, 5, 6, 7, 8, 9]])"
      ]
     },
     "execution_count": 67,
     "metadata": {},
     "output_type": "execute_result"
    }
   ],
   "source": [
    "z"
   ]
  },
  {
   "cell_type": "code",
   "execution_count": null,
   "id": "3a45cf23",
   "metadata": {},
   "outputs": [],
   "source": []
  }
 ],
 "metadata": {
  "kernelspec": {
   "display_name": "Python 3",
   "language": "python",
   "name": "python3"
  },
  "language_info": {
   "codemirror_mode": {
    "name": "ipython",
    "version": 3
   },
   "file_extension": ".py",
   "mimetype": "text/x-python",
   "name": "python",
   "nbconvert_exporter": "python",
   "pygments_lexer": "ipython3",
   "version": "3.6.13"
  }
 },
 "nbformat": 4,
 "nbformat_minor": 5
}
